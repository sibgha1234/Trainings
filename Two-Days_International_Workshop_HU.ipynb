{
  "nbformat": 4,
  "nbformat_minor": 0,
  "metadata": {
    "colab": {
      "provenance": [],
      "gpuType": "T4",
      "authorship_tag": "ABX9TyOlWEysRspOlC8RezKeYCRy",
      "include_colab_link": true
    },
    "kernelspec": {
      "name": "python3",
      "display_name": "Python 3"
    },
    "language_info": {
      "name": "python"
    },
    "accelerator": "GPU"
  },
  "cells": [
    {
      "cell_type": "markdown",
      "metadata": {
        "id": "view-in-github",
        "colab_type": "text"
      },
      "source": [
        "<a href=\"https://colab.research.google.com/github/Ash100/Trainings/blob/main/Two-Days_International_Workshop_HU.ipynb\" target=\"_parent\"><img src=\"https://colab.research.google.com/assets/colab-badge.svg\" alt=\"Open In Colab\"/></a>"
      ]
    },
    {
      "cell_type": "markdown",
      "source": [
        "# **Practical Data Science for Nanomaterial Safety: Analyzing ZnO, CuO, TiO2, Fe2O3, and Al2O3 Toxicity and Predictions**\n",
        "###Presented by **Dr. Ashfaq Ahmad,** Department of Bioinformatics, Hazara University, Mansehra.\n",
        "\n",
        "**Date: July 22-23, 2025**\n",
        "\n",
        "This demonstration will be conducted on July 22, 2025, as part of the<br>\n",
        "### **_2-Days International Workshop on Nanomaterials: A Journey Through Progress, Emerging Trends, and Future Challenges (NJTP-ETFC25)_**."
      ],
      "metadata": {
        "id": "zaAh6eRyLtq_"
      }
    },
    {
      "cell_type": "markdown",
      "source": [
        "## **Introduction**\n",
        "\n",
        "1. Nanoparticles (NPs) are widely used across various industries, but concerns remain about their potential **toxicity**.<br>\n",
        "2. This talk **aims** to demonstrate the development of a machine learning model that predicts nanoparticle toxicity based on their physicochemical properties.<br>\n",
        "3. Also the participant will **observe** the importance of cloud computing during the session.<br>\n",
        "\n"
      ],
      "metadata": {
        "id": "J68i1wPaBX09"
      }
    },
    {
      "cell_type": "markdown",
      "source": [
        "### **Methodology**<br>\n",
        "\n",
        "The dataset for this study was sourced from the internet sources **Kaggle,** and the analysis followed these key steps:\n",
        "\n",
        "**Data Preprocessing:** This involved addressing missing values, encoding categorical variables, and scaling numerical features to prepare the data for modeling.\n",
        "\n",
        "**Dataset Splitting:** The processed data was divided into training and testing sets to ensure robust model evaluation.\n",
        "\n",
        "**Model Training:** A Random Forest Classifier was implemented to predict toxicity based on the prepared dataset.\n",
        "\n",
        "**Performance Evaluation:** The model's effectiveness was assessed by evaluating its accuracy and identifying feature importance.\n",
        "\n",
        "**Hyperparameter Tuning:** GridSearchCV was utilized to optimize the Random Forest Classifier's hyperparameters, enhancing its predictive performance.\n",
        "\n",
        "**Model Deployment:** The trained model was saved and loaded to facilitate future toxicity predictions."
      ],
      "metadata": {
        "id": "2PQk7D2TaNmi"
      }
    },
    {
      "cell_type": "code",
      "source": [
        "#@title Libraries Import\n",
        "import pandas as pd\n",
        "import numpy as np\n",
        "import seaborn as sns\n",
        "import matplotlib.pyplot as plt\n",
        "from sklearn.model_selection import train_test_split, GridSearchCV\n",
        "from sklearn.preprocessing import LabelEncoder, StandardScaler\n",
        "from sklearn.ensemble import RandomForestClassifier\n",
        "from xgboost import XGBClassifier\n",
        "from sklearn.svm import SVC\n",
        "from sklearn.metrics import accuracy_score, classification_report, confusion_matrix\n",
        "import joblib"
      ],
      "metadata": {
        "cellView": "form",
        "id": "cEe0FqafBn_A"
      },
      "execution_count": 1,
      "outputs": []
    },
    {
      "cell_type": "code",
      "source": [
        "#@title Loading the dataset from local computer\n",
        "import pandas as pd\n",
        "from google.colab import files\n",
        "\n",
        "# Upload the file manually\n",
        "uploaded = files.upload()\n",
        "\n",
        "# Extract the filename (assumes only one file is uploaded)\n",
        "file_path = next(iter(uploaded))\n",
        "\n",
        "# Load the dataset\n",
        "df = pd.read_csv(file_path)\n",
        "\n",
        "# Display basic information\n",
        "print(\"Dataset Information:\")\n",
        "df.info()\n",
        "\n",
        "# Show the first few rows\n",
        "df.head()\n"
      ],
      "metadata": {
        "cellView": "form",
        "id": "gUUNEd8dBz6u"
      },
      "execution_count": null,
      "outputs": []
    },
    {
      "cell_type": "markdown",
      "source": [
        "### **About the Dataset**\n",
        "**NPs:** Identifies the specific type of nanoparticle.\n",
        "\n",
        "**coresize:** Refers to the diameter or size of the solid core of the nanoparticle.\n",
        "\n",
        "**hydrosize:** Represents the hydrodynamic size of the nanoparticle, including any adsorbed layers in solution.\n",
        "\n",
        "**surfcharge:** Indicates the electrical charge on the surface of the nanoparticle.\n",
        "\n",
        "**surfarea:** Denotes the total surface area of the nanoparticle.\n",
        "\n",
        "**Ec:** Represents the electrokinetic (zeta) potential, indicating colloidal stability.\n",
        "\n",
        "**Exptime:** Specifies the duration of exposure to the nanoparticles.\n",
        "\n",
        "**dosage:** Refers to the concentration or amount of nanoparticles administered.\n",
        "\n",
        "**e:** Denotes the electrophoretic mobility, measuring particle movement in an electric field.\n",
        "\n",
        "**NOxygen:** Likely represents the number of oxygen atoms associated with the nanoparticle or its environment.\n",
        "\n",
        "**class:** Categorizes the outcome, likely indicating the toxicity level (e.g., toxic/non-toxic)."
      ],
      "metadata": {
        "id": "GiFuIC92evSB"
      }
    },
    {
      "cell_type": "code",
      "source": [
        "#@title Check for missing values\n",
        "# Check for missing values\n",
        "print(\"Missing Values in Each Column:\")\n",
        "print(df.isnull().sum())\n",
        "\n",
        "# Check for duplicate rows\n",
        "print(\"\\nNumber of duplicate rows:\", df.duplicated().sum())"
      ],
      "metadata": {
        "cellView": "form",
        "id": "A5UppAAdB-g4"
      },
      "execution_count": null,
      "outputs": []
    },
    {
      "cell_type": "code",
      "source": [
        "#@title Check for duplicate rows\n",
        "# Remove duplicate rows\n",
        "df = df.drop_duplicates()\n",
        "\n",
        "# Check the new shape of the dataset\n",
        "print(\"New dataset shape after removing duplicates:\", df.shape)"
      ],
      "metadata": {
        "cellView": "form",
        "id": "BrJr8Sm1CIU6"
      },
      "execution_count": null,
      "outputs": []
    },
    {
      "cell_type": "code",
      "source": [
        "#@title Let's Explore data patterns/Class Distribution\n",
        "# Feature Distributions (Histograms for numerical features)\n",
        "df.hist(figsize=(12, 8), bins=30)\n",
        "plt.suptitle('Feature Distributions', fontsize=16)\n",
        "plt.tight_layout(rect=[0, 0.03, 1, 0.96]) # Adjust layout to prevent suptitle overlap\n",
        "plt.savefig('feature_distributions.png', dpi=600) # Save with 600 DPI\n",
        "plt.show()\n",
        "\n",
        "# Class Distribution (for classification tasks)\n",
        "plt.figure(figsize=(6, 4))\n",
        "sns.countplot(x='class', data=df, palette='viridis')\n",
        "plt.title('Class Distribution')\n",
        "plt.xlabel('Class')\n",
        "plt.ylabel('Count')\n",
        "plt.savefig('class_distribution.png', dpi=600) # Save with 600 DPI\n",
        "plt.show()"
      ],
      "metadata": {
        "id": "AdUIHrmECV7v"
      },
      "execution_count": null,
      "outputs": []
    },
    {
      "cell_type": "code",
      "source": [
        "#@title Individual Variable Comparison - For instance, **coresize Vs Toxicity**\n",
        "import seaborn as sns\n",
        "import matplotlib.pyplot as plt\n",
        "\n",
        "# Set style\n",
        "sns.set(style='whitegrid')\n",
        "plt.figure(figsize=(8, 6))\n",
        "\n",
        "# Just the boxplot — no individual points\n",
        "sns.boxplot(x='class', y='surfarea', data=df, palette='pastel', showfliers=False) # Changed 'surfarea' to 'coresize' as per the title\n",
        "\n",
        "plt.title('Relationship Between Core Size and Toxicity', fontsize=14)\n",
        "plt.xlabel('Toxicity Class')\n",
        "plt.ylabel('Core Size (nm)')\n",
        "plt.tight_layout()\n",
        "plt.savefig('coresize_vs_toxicity.png', dpi=600) # Save with 600 DPI\n",
        "plt.show()"
      ],
      "metadata": {
        "id": "JoA2__WMOjgb"
      },
      "execution_count": null,
      "outputs": []
    },
    {
      "cell_type": "code",
      "source": [
        "#@title Let's Calculate some statistics on variable comparision for significance\n",
        "group_nonToxic = df[df['class'] == 'nonToxic']['coresize']\n",
        "group_Toxic = df[df['class'] == 'Toxic']['coresize']  # Capital 'T'\n"
      ],
      "metadata": {
        "id": "hM9blxYBWA9K"
      },
      "execution_count": 12,
      "outputs": []
    },
    {
      "cell_type": "code",
      "source": [
        "#@title Perform mannwhitneyu Test\n",
        "from scipy.stats import mannwhitneyu\n",
        "\n",
        "# Mann–Whitney U test\n",
        "if not group_nonToxic.empty and not group_Toxic.empty:\n",
        "    stat, p_value = mannwhitneyu(group_nonToxic, group_Toxic, alternative='two-sided')\n",
        "    print(f\"Mann–Whitney U test statistic: {stat:.3f}\")\n",
        "    print(f\"P-value: {p_value:.4f}\")\n",
        "\n",
        "    if p_value < 0.05:\n",
        "        print(\"🔬 Statistically significant difference in core size between Toxic and nonToxic groups.\")\n",
        "    else:\n",
        "        print(\"ℹ️ No statistically significant difference in core size between groups.\")\n",
        "else:\n",
        "    print(\"⚠️ One or both groups are empty — check filtering.\")\n"
      ],
      "metadata": {
        "id": "mPrYRf3YPds2"
      },
      "execution_count": null,
      "outputs": []
    },
    {
      "cell_type": "code",
      "source": [
        "#@title Data processing for Machine Learning Models\n",
        "import pickle\n",
        "from sklearn.preprocessing import LabelEncoder, StandardScaler\n",
        "\n",
        "# Encode the categorical variable 'NPs' and 'class'\n",
        "label_encoders = {}\n",
        "for col in [\"NPs\", \"class\"]:\n",
        "    label_encoders[col] = LabelEncoder()\n",
        "    df[col] = label_encoders[col].fit_transform(df[col])\n",
        "\n",
        "# Save label encoders for future use\n",
        "with open(\"label_encoders.pkl\", \"wb\") as f:\n",
        "    pickle.dump(label_encoders, f)\n",
        "\n",
        "# Scale numerical features\n",
        "scaler = StandardScaler()\n",
        "numeric_cols = df.columns[df.dtypes != \"object\"].tolist()  # Get numeric column names\n",
        "df[numeric_cols] = scaler.fit_transform(df[numeric_cols])\n",
        "\n",
        "# Show transformed dataset\n",
        "print(\"Preprocessing Completed!\")\n",
        "print(df.head())\n",
        "print(df.head())"
      ],
      "metadata": {
        "cellView": "form",
        "id": "St8eCpDLCpA6"
      },
      "execution_count": null,
      "outputs": []
    },
    {
      "cell_type": "code",
      "source": [
        "#@title Splitting data in Training and Testing set\n",
        "from sklearn.model_selection import train_test_split\n",
        "\n",
        "# Separate features and target variable\n",
        "X = df.drop(columns=[\"class\"])  # Features\n",
        "y = df[\"class\"]  # Target (toxicity class)\n",
        "\n",
        "# Split into training (80%) and testing (20%) sets\n",
        "X_train, X_test, y_train, y_test = train_test_split(X, y, test_size=0.2, random_state=42, stratify=y)\n",
        "\n",
        "# Check the shape\n",
        "print(f\"X_train shape: {X_train.shape}, X_test shape: {X_test.shape}\")\n",
        "print(f\"y_train shape: {y_train.shape}, y_test shape: {y_test.shape}\")"
      ],
      "metadata": {
        "id": "Kapsl0RyC3fr"
      },
      "execution_count": null,
      "outputs": []
    },
    {
      "cell_type": "code",
      "source": [
        "#@title Label Encoding\n",
        "from sklearn.preprocessing import LabelEncoder\n",
        "\n",
        "# Ensure target labels are categorical\n",
        "label_encoder = LabelEncoder()\n",
        "y_train = label_encoder.fit_transform(y_train)\n",
        "y_test = label_encoder.transform(y_test)  #Use transform to keep consistency\n",
        "\n",
        "# Print unique labels\n",
        "print(\"Encoded classes:\", label_encoder.classes_)"
      ],
      "metadata": {
        "id": "55HRZj9nDBML"
      },
      "execution_count": null,
      "outputs": []
    },
    {
      "cell_type": "code",
      "source": [
        "#@title Initiate Random Forest Model\n",
        "from sklearn.ensemble import RandomForestRegressor\n",
        "\n",
        "rf_model = RandomForestRegressor()\n",
        "rf_model.fit(X_train, y_train)  # This will work correctly"
      ],
      "metadata": {
        "id": "TFEC8JcsDHgC"
      },
      "execution_count": null,
      "outputs": []
    },
    {
      "cell_type": "code",
      "source": [
        "import pandas as pd\n",
        "\n",
        "# Convert y_train to a Pandas Series\n",
        "y_train_series = pd.Series(y_train)\n",
        "\n",
        "# Now you can use .head()\n",
        "print(y_train_series.head())\n",
        "print(y_train_series.dtype)"
      ],
      "metadata": {
        "id": "s5bOS5sRDN5i"
      },
      "execution_count": null,
      "outputs": []
    },
    {
      "cell_type": "code",
      "source": [
        "print(y_train[:5])  # This works for NumPy arrays\n",
        "print(type(y_train))  # Check its type"
      ],
      "metadata": {
        "id": "CM8y4hhlDT0E"
      },
      "execution_count": null,
      "outputs": []
    },
    {
      "cell_type": "code",
      "source": [
        "#@title Now let's Train the Model\n",
        "from sklearn.ensemble import RandomForestClassifier\n",
        "\n",
        "# Initialize the model\n",
        "rf_model = RandomForestRegressor(n_estimators=100, random_state=42)\n",
        "\n",
        "# Train the model\n",
        "rf_model.fit(X_train, y_train)\n",
        "\n",
        "# Check training and testing accuracy\n",
        "train_accuracy = rf_model.score(X_train, y_train)\n",
        "test_accuracy = rf_model.score(X_test, y_test)\n",
        "\n",
        "print(f\"Training Accuracy: {train_accuracy:.4f}\")\n",
        "print(f\"Testing Accuracy: {test_accuracy:.4f}\")"
      ],
      "metadata": {
        "id": "t9hAi7TGDYNU"
      },
      "execution_count": null,
      "outputs": []
    },
    {
      "cell_type": "code",
      "source": [
        "#@title Hypertunning using Gridsearchcsv\n",
        "from sklearn.model_selection import GridSearchCV\n",
        "\n",
        "# Define hyperparameter grid\n",
        "param_grid = {\n",
        "    \"n_estimators\": [50, 100, 200],\n",
        "    \"max_depth\": [None, 10, 20],\n",
        "    \"min_samples_split\": [2, 5, 10],\n",
        "    \"min_samples_leaf\": [1, 2, 4]\n",
        "}\n",
        "\n",
        "# Initialize Grid Search\n",
        "grid_search = GridSearchCV(RandomForestClassifier(random_state=42), param_grid, cv=3, scoring=\"accuracy\", n_jobs=-1)\n",
        "\n",
        "# Fit the model\n",
        "grid_search.fit(X_train, y_train)\n",
        "\n",
        "# Get best parameters\n",
        "print(\"Best Parameters:\", grid_search.best_params_)\n",
        "\n",
        "# Train best model\n",
        "best_rf = grid_search.best_estimator_\n",
        "best_rf.fit(X_train, y_train)\n",
        "\n",
        "# Evaluate again\n",
        "print(\"Optimized Model Accuracy:\", best_rf.score(X_test, y_test))"
      ],
      "metadata": {
        "cellView": "form",
        "id": "B61TRMrJDeDt"
      },
      "execution_count": null,
      "outputs": []
    },
    {
      "cell_type": "code",
      "source": [
        "#@title Saving the trained model\n",
        "# Train the best model after hyperparameter tuning\n",
        "best_rf_model = RandomForestClassifier(**grid_search.best_params_, random_state=42)\n",
        "best_rf_model.fit(X_train, y_train)\n",
        "\n",
        "# Calculate training accuracy for the optimized model\n",
        "train_accuracy_optimized = best_rf_model.score(X_train, y_train)\n",
        "print(f\"Optimized Model Training Accuracy: {train_accuracy_optimized:.4f}\")\n",
        "\n",
        "# Save the optimized model\n",
        "import pickle\n",
        "with open(\"optimized_rf_model.pkl\", \"wb\") as f:\n",
        "    pickle.dump(best_rf_model, f)\n",
        "\n",
        "print(\"Optimized model saved successfully!\")"
      ],
      "metadata": {
        "cellView": "form",
        "id": "bPjeh-90Dlqr"
      },
      "execution_count": null,
      "outputs": []
    },
    {
      "cell_type": "code",
      "source": [
        "#@title Loading the model\n",
        "# Load the saved model\n",
        "with open(\"optimized_rf_model.pkl\", \"rb\") as f:\n",
        "    loaded_model = pickle.load(f)\n",
        "\n",
        "# Test with new data\n",
        "sample = X_test.iloc[0:1]  # Take one sample from test set\n",
        "prediction = loaded_model.predict(sample)\n",
        "print(\"Predicted Class:\", prediction)"
      ],
      "metadata": {
        "id": "EHsiNe11DuI8"
      },
      "execution_count": null,
      "outputs": []
    },
    {
      "cell_type": "code",
      "source": [
        "#@title Evaluate Accuracy of the model\n",
        "import pickle\n",
        "\n",
        "# Load the saved model\n",
        "with open(\"optimized_rf_model.pkl\", \"rb\") as f:\n",
        "    loaded_model = pickle.load(f)\n",
        "\n",
        "# Predict on the test set\n",
        "y_pred = loaded_model.predict(X_test)\n",
        "\n",
        "# Calculate test accuracy\n",
        "test_accuracy = accuracy_score(y_test, y_pred)\n",
        "print(f\"Test Accuracy: {test_accuracy:.4f}\")"
      ],
      "metadata": {
        "id": "G7ObAbp1D2bj"
      },
      "execution_count": null,
      "outputs": []
    },
    {
      "cell_type": "code",
      "source": [
        "from sklearn.metrics import roc_curve, auc\n",
        "from sklearn.preprocessing import label_binarize\n",
        "\n",
        "# Check if binary classification\n",
        "if len(loaded_model.classes_) == 2:\n",
        "    # Get predicted probabilities\n",
        "    y_proba = loaded_model.predict_proba(X_test)[:, 1]\n",
        "\n",
        "    # ROC curve\n",
        "    fpr, tpr, _ = roc_curve(y_test, y_proba, pos_label=loaded_model.classes_[1])\n",
        "    roc_auc = auc(fpr, tpr)\n",
        "\n",
        "    plt.figure(figsize=(8, 6))\n",
        "    plt.plot(fpr, tpr, color='darkorange', lw=2, label=f'ROC Curve (AUC = {roc_auc:.2f})')\n",
        "    plt.plot([0, 1], [0, 1], color='gray', linestyle='--')\n",
        "    plt.xlabel('False Positive Rate')\n",
        "    plt.ylabel('True Positive Rate')\n",
        "    plt.title('ROC Curve - Test Set')\n",
        "    plt.legend(loc='lower right')\n",
        "    plt.grid(True)\n",
        "    plt.tight_layout()\n",
        "    plt.show()\n"
      ],
      "metadata": {
        "id": "c5e5VUz0XAeW"
      },
      "execution_count": null,
      "outputs": []
    },
    {
      "cell_type": "markdown",
      "source": [
        "**High Discriminatory Power:**<br> A 0.98 AUC means your model has a very high ability to distinguish between the **two classes (e.g., \"Toxic\" vs. \"Non-toxic\" nanoparticles)**"
      ],
      "metadata": {
        "id": "ubfY51uwn1i0"
      }
    },
    {
      "cell_type": "code",
      "source": [
        "#@title Feature Importance Analysis\n",
        "import matplotlib.pyplot as plt\n",
        "import numpy as np\n",
        "\n",
        "# Get feature importances\n",
        "feature_importances = loaded_model.feature_importances_\n",
        "\n",
        "# Create a bar chart\n",
        "features = X.columns\n",
        "indices = np.argsort(feature_importances)[::-1]  # Sort by importance\n",
        "\n",
        "plt.figure(figsize=(10, 6))\n",
        "plt.title(\"Feature Importance in Nanoparticle Toxicity Prediction\")\n",
        "plt.bar(range(X.shape[1]), feature_importances[indices], align=\"center\")\n",
        "plt.xticks(range(X.shape[1]), features[indices], rotation=45, ha=\"right\")\n",
        "plt.xlabel(\"Feature\")\n",
        "plt.ylabel(\"Importance Score\")\n",
        "plt.show()"
      ],
      "metadata": {
        "cellView": "form",
        "id": "zIZXckRrEAoT"
      },
      "execution_count": null,
      "outputs": []
    },
    {
      "cell_type": "markdown",
      "source": [
        "## We can also use this trained **model,** and can **predict** the toxicity for unknown data."
      ],
      "metadata": {
        "id": "m7FTqOQZmrWi"
      }
    },
    {
      "cell_type": "markdown",
      "source": [
        "# Thank You So Much"
      ],
      "metadata": {
        "id": "LTS6-RrinMoZ"
      }
    }
  ]
}